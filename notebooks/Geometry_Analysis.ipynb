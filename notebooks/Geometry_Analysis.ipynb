{
 "cells": [
  {
   "cell_type": "markdown",
   "metadata": {},
   "source": [
    "1. Bond Lengths"
   ]
  },
  {
   "cell_type": "code",
   "execution_count": 3,
   "metadata": {},
   "outputs": [
    {
     "name": "stdout",
     "output_type": "stream",
     "text": [
      "12\n",
      "initial geometry\n",
      "C     -0.268570    -0.461670    -1.431230\n",
      "C      0.013080     0.053910    -0.166160\n",
      "C     -0.240010    -0.712450     0.971460\n",
      "C     -0.774740    -1.994390     0.844020\n",
      "C     -1.056380    -2.509970    -0.421040\n",
      "C     -0.803300    -1.743610    -1.558670\n",
      "H     -1.022740    -2.145310    -2.544300\n",
      "H     -0.071390     0.135410    -2.317560\n",
      "H      0.429690     1.052680    -0.066870\n",
      "H     -0.020570    -0.310750     1.957100\n",
      "H     -0.971920    -2.591470     1.730360\n",
      "H     -1.473000    -3.508740    -0.520340\n",
      "\n",
      "bond graph\n",
      "    1 C  - 2 6 8\n",
      "    2 C  - 1 3 9\n",
      "    3 C  - 2 4 10\n",
      "    4 C  - 3 5 11\n",
      "    5 C  - 4 6 12\n",
      "    6 C  - 1 5 7\n",
      "    7 H  - 6\n",
      "    8 H  - 1\n",
      "    9 H  - 2\n",
      "   10 H  - 3\n",
      "   11 H  - 4\n",
      "   12 H  - 5\n",
      "\n",
      "12 bond(s) found (Angstrom)\n",
      " 1-2              (C-C)            1.3948\n",
      " 1-6              (C-C)            1.3948\n",
      " 1-8              (C-H)            1.0867\n",
      " 2-3              (C-C)            1.3948\n",
      " 2-9              (C-H)            1.0867\n",
      " 3-4              (C-C)            1.3948\n",
      " 3-10             (C-H)            1.0867\n",
      " 4-5              (C-C)            1.3948\n",
      " 4-11             (C-H)            1.0867\n",
      " 5-6              (C-C)            1.3948\n",
      " 5-12             (C-H)            1.0867\n",
      " 6-7              (C-H)            1.0867\n",
      "\n"
     ]
    }
   ],
   "source": [
    "run ../scripts/geometry_analysis/bonds.py ../geom/xyz/benzene.xyz"
   ]
  },
  {
   "cell_type": "markdown",
   "metadata": {},
   "source": [
    "2. Bond Angles"
   ]
  },
  {
   "cell_type": "code",
   "execution_count": 5,
   "metadata": {},
   "outputs": [
    {
     "name": "stdout",
     "output_type": "stream",
     "text": [
      "12\n",
      "initial geometry\n",
      "C     -0.268570    -0.461670    -1.431230\n",
      "C      0.013080     0.053910    -0.166160\n",
      "C     -0.240010    -0.712450     0.971460\n",
      "C     -0.774740    -1.994390     0.844020\n",
      "C     -1.056380    -2.509970    -0.421040\n",
      "C     -0.803300    -1.743610    -1.558670\n",
      "H     -1.022740    -2.145310    -2.544300\n",
      "H     -0.071390     0.135410    -2.317560\n",
      "H      0.429690     1.052680    -0.066870\n",
      "H     -0.020570    -0.310750     1.957100\n",
      "H     -0.971920    -2.591470     1.730360\n",
      "H     -1.473000    -3.508740    -0.520340\n",
      "\n",
      "12 bond(s) found (Angstrom)\n",
      " 1-2              (C-C)            1.3948\n",
      " 1-6              (C-C)            1.3948\n",
      " 1-8              (C-H)            1.0867\n",
      " 2-3              (C-C)            1.3948\n",
      " 2-9              (C-H)            1.0867\n",
      " 3-4              (C-C)            1.3948\n",
      " 3-10             (C-H)            1.0867\n",
      " 4-5              (C-C)            1.3948\n",
      " 4-11             (C-H)            1.0867\n",
      " 5-6              (C-C)            1.3948\n",
      " 5-12             (C-H)            1.0867\n",
      " 6-7              (C-H)            1.0867\n",
      "\n",
      "18 angle(s) found (degrees)\n",
      " 2-1-6            (C-C-C)         120.000\n",
      " 2-1-8            (C-C-H)         120.000\n",
      " 6-1-8            (C-C-H)         120.000\n",
      " 1-2-3            (C-C-C)         120.000\n",
      " 1-2-9            (C-C-H)         120.000\n",
      " 3-2-9            (C-C-H)         120.000\n",
      " 2-3-4            (C-C-C)         120.000\n",
      " 2-3-10           (C-C-H)         120.000\n",
      " 4-3-10           (C-C-H)         120.000\n",
      " 3-4-5            (C-C-C)         120.000\n",
      " 3-4-11           (C-C-H)         120.000\n",
      " 5-4-11           (C-C-H)         120.000\n",
      " 4-5-6            (C-C-C)         120.000\n",
      " 4-5-12           (C-C-H)         120.000\n",
      " 6-5-12           (C-C-H)         119.999\n",
      " 1-6-5            (C-C-C)         120.000\n",
      " 1-6-7            (C-C-H)         120.000\n",
      " 5-6-7            (C-C-H)         120.000\n",
      "\n"
     ]
    }
   ],
   "source": [
    "run ../scripts/geometry_analysis/angles.py ../geom/xyz/benzene.xyz"
   ]
  },
  {
   "cell_type": "markdown",
   "metadata": {},
   "source": [
    "3. Torsion Angles"
   ]
  },
  {
   "cell_type": "code",
   "execution_count": 7,
   "metadata": {},
   "outputs": [
    {
     "name": "stdout",
     "output_type": "stream",
     "text": [
      "9\n",
      "initial geometry\n",
      "C     -0.417030    -1.278460     0.208970\n",
      "C      0.561330    -0.155110    -0.064740\n",
      "H     -1.235530    -1.264660    -0.518230\n",
      "H     -0.869210    -1.162750     1.199450\n",
      "H      0.081520    -2.250490     0.159140\n",
      "O     -0.100850     1.097970     0.026030\n",
      "H      0.998410    -0.249850    -1.063380\n",
      "H      1.372270    -0.166360     0.669290\n",
      "H     -0.812970     1.101860    -0.636140\n",
      "\n",
      "8 bond(s) found (Angstrom)\n",
      " 1-2              (C-C)            1.5146\n",
      " 1-3              (C-H)            1.0950\n",
      " 1-4              (C-H)            1.0949\n",
      " 1-5              (C-H)            1.0936\n",
      " 2-6              (C-O)            1.4202\n",
      " 2-7              (C-H)            1.0942\n",
      " 2-8              (C-H)            1.0939\n",
      " 6-9              (O-H)            0.9724\n",
      "\n",
      "13 angle(s) found (degrees)\n",
      " 2-1-3            (C-C-H)         110.701\n",
      " 2-1-4            (C-C-H)         110.601\n",
      " 2-1-5            (C-C-H)         110.887\n",
      " 3-1-4            (H-C-H)         106.902\n",
      " 3-1-5            (H-C-H)         108.767\n",
      " 4-1-5            (H-C-H)         108.870\n",
      " 1-2-6            (C-C-O)         109.979\n",
      " 1-2-7            (C-C-H)         111.023\n",
      " 1-2-8            (C-C-H)         110.486\n",
      " 6-2-7            (O-C-H)         108.722\n",
      " 6-2-8            (O-C-H)         108.171\n",
      " 7-2-8            (H-C-H)         108.385\n",
      " 2-6-9            (C-O-H)         107.545\n",
      "\n",
      "12 torsion(s) found (degrees)\n",
      " 3-1-2-6          (H-C-C-O)        60.119\n",
      " 3-1-2-7          (H-C-C-H)       -60.252\n",
      " 3-1-2-8          (H-C-C-H)       179.463\n",
      " 4-1-2-6          (H-C-C-O)       -58.180\n",
      " 4-1-2-7          (H-C-C-H)      -178.552\n",
      " 4-1-2-8          (H-C-C-H)        61.163\n",
      " 5-1-2-6          (H-C-C-O)      -179.062\n",
      " 5-1-2-7          (H-C-C-H)        60.567\n",
      " 5-1-2-8          (H-C-C-H)       -59.718\n",
      " 1-2-6-9          (C-C-O-H)       -59.854\n",
      " 7-2-6-9          (H-C-O-H)        61.898\n",
      " 8-2-6-9          (H-C-O-H)       179.398\n",
      "\n"
     ]
    }
   ],
   "source": [
    "run ../scripts/geometry_analysis/torsions.py ../geom/xyz/ethanol.xyz"
   ]
  },
  {
   "cell_type": "markdown",
   "metadata": {},
   "source": [
    "4. Z-matrix Coordinates"
   ]
  },
  {
   "cell_type": "code",
   "execution_count": 11,
   "metadata": {},
   "outputs": [
    {
     "name": "stdout",
     "output_type": "stream",
     "text": [
      "12\n",
      "benzene\n",
      "C      0.000000     0.000000     0.000000\n",
      "C      0.000000     0.000000     1.380000\n",
      "C      0.000000     1.195115     2.070000\n",
      "C      0.000000     2.390230     1.380000\n",
      "C      0.000000     2.390230    -0.000000\n",
      "C      0.000000     1.195115    -0.690000\n",
      "H      0.000000    -0.939638    -0.542500\n",
      "H     -0.000000    -0.939638     1.922500\n",
      "H     -0.000000     1.195115     3.155000\n",
      "H     -0.000000     3.329868     1.922500\n",
      "H     -0.000000     3.329868    -0.542500\n",
      "H     -0.000000     1.195115    -1.775000\n"
     ]
    }
   ],
   "source": [
    "run ../scripts/geometry_analysis/zmat2xyz.py ../geom/zmat/benzene.zmat"
   ]
  },
  {
   "cell_type": "code",
   "execution_count": null,
   "metadata": {},
   "outputs": [],
   "source": []
  }
 ],
 "metadata": {
  "kernelspec": {
   "display_name": "Python 3",
   "language": "python",
   "name": "python3"
  },
  "language_info": {
   "codemirror_mode": {
    "name": "ipython",
    "version": 3
   },
   "file_extension": ".py",
   "mimetype": "text/x-python",
   "name": "python",
   "nbconvert_exporter": "python",
   "pygments_lexer": "ipython3",
   "version": "3.10.3"
  }
 },
 "nbformat": 4,
 "nbformat_minor": 2
}
